{
 "cells": [
  {
   "cell_type": "markdown",
   "metadata": {},
   "source": [
    "## 3. Коллекции"
   ]
  },
  {
   "cell_type": "markdown",
   "metadata": {},
   "source": [
    "### 3.1 list\n",
    "\n",
    "Позволяет хранить последовательность элементов одного или разных типов с Сохранением порядка добавления элементов в список.\n",
    "\n",
    "Изменяемые"
   ]
  },
  {
   "cell_type": "markdown",
   "metadata": {},
   "source": [
    "### 3.2 dict\n",
    "\n",
    "Позволяет хранить пары ключ-значение, для быстрого доступа к значению по ключу. "
   ]
  },
  {
   "cell_type": "markdown",
   "metadata": {},
   "source": [
    "### 3.3 set\n",
    "\n",
    "Неупорядоченная коллекция, содержащая только уникальные хешируемые элементы.\n",
    "\n",
    "Изменяемые\n",
    "Не хешируемые"
   ]
  },
  {
   "cell_type": "markdown",
   "metadata": {},
   "source": [
    "### 3.4 tuple\n",
    "\n",
    "Так же как и список позволяет хранить последовательность элементов одного или разного типа\n",
    "\n",
    "* Неизменяемые (Immutable) => защищают данные\n",
    "* Быстрее списка"
   ]
  },
  {
   "cell_type": "code",
   "execution_count": null,
   "metadata": {},
   "outputs": [],
   "source": []
  }
 ],
 "metadata": {
  "kernelspec": {
   "display_name": "Python 3",
   "language": "python",
   "name": "python3"
  },
  "language_info": {
   "codemirror_mode": {
    "name": "ipython",
    "version": 3
   },
   "file_extension": ".py",
   "mimetype": "text/x-python",
   "name": "python",
   "nbconvert_exporter": "python",
   "pygments_lexer": "ipython3",
   "version": "3.7.0"
  }
 },
 "nbformat": 4,
 "nbformat_minor": 2
}
