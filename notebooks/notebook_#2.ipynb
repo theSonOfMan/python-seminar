{
 "cells": [
  {
   "cell_type": "markdown",
   "metadata": {},
   "source": [
    "## 3. Коллекции"
   ]
  },
  {
   "cell_type": "markdown",
   "metadata": {},
   "source": [
    "### 3.1 list\n",
    "\n",
    "Позволяет хранить последовательность элементов одного или разных типов с Сохранением порядка добавления элементов в список.\n",
    "\n",
    "Изменяемые"
   ]
  },
  {
   "cell_type": "markdown",
   "metadata": {},
   "source": [
    "### Создание списков"
   ]
  },
  {
   "cell_type": "code",
   "execution_count": null,
   "metadata": {},
   "outputs": [],
   "source": [
    "# создаем list используя квадратные скобки или ф-ю list\n",
    "empty_list = []\n",
    "empty_list = list()\n",
    "not_empty_list = list([1,2,3])\n",
    "not_empty_list = [1, 2, 3]\n",
    "item = [None] * 100"
   ]
  },
  {
   "cell_type": "code",
   "execution_count": null,
   "metadata": {},
   "outputs": [],
   "source": [
    "# list может содержать любые объекты, внутри Python они хранятся как массив указателей\n",
    "example_list = [1, True, \"a\"]\n",
    "for element in example_list:\n",
    "    print(element)"
   ]
  },
  {
   "cell_type": "code",
   "execution_count": null,
   "metadata": {},
   "outputs": [],
   "source": [
    "# добавляем элемент в конец списка O(1)\n",
    "example_list.append(\"foo\")\n",
    "print(example_list)\n",
    "\n",
    "# добавляем элемент в начало O(n)\n",
    "example_list.insert(0, \"bar\")\n",
    "print(example_list)\n",
    "\n",
    "example_list.extend([\"foo\", 1])\n",
    "print(example_list)"
   ]
  },
  {
   "cell_type": "code",
   "execution_count": null,
   "metadata": {
    "scrolled": true
   },
   "outputs": [],
   "source": [
    "example_list.append(example_list)\n",
    "print(example_list)\n",
    "print(example_list[-1])"
   ]
  },
  {
   "cell_type": "code",
   "execution_count": null,
   "metadata": {},
   "outputs": [],
   "source": [
    "example_list = [0, 1, 2, 3, 4, 5, 6]\n",
    "\n",
    "# доступ к элементу O(1)\n",
    "print(example_list[0])\n",
    "print(example_list[-1])\n",
    "\n",
    "# Изменение по индексу O(1)\n",
    "example_list[6] = 10"
   ]
  },
  {
   "cell_type": "code",
   "execution_count": null,
   "metadata": {},
   "outputs": [],
   "source": [
    "# Удаление элемента O(n)\n",
    "print(example_list)\n",
    "del example_list[-1]\n",
    "print(example_list)"
   ]
  },
  {
   "cell_type": "code",
   "execution_count": null,
   "metadata": {},
   "outputs": [],
   "source": [
    "example_list.remove(4)\n",
    "print(example_list)"
   ]
  },
  {
   "cell_type": "code",
   "execution_count": null,
   "metadata": {},
   "outputs": [],
   "source": [
    "example_list.remove(4)"
   ]
  },
  {
   "cell_type": "code",
   "execution_count": null,
   "metadata": {},
   "outputs": [],
   "source": [
    "del example_list[5]"
   ]
  },
  {
   "cell_type": "code",
   "execution_count": null,
   "metadata": {},
   "outputs": [],
   "source": [
    "# Обращение к несуществующему индексу.\n",
    "example_list[100]"
   ]
  },
  {
   "cell_type": "code",
   "execution_count": null,
   "metadata": {
    "scrolled": true
   },
   "outputs": [],
   "source": [
    "# срезы\n",
    "print(example_list)\n",
    "print(example_list[2:-1])\n",
    "print(example_list[2:len(example_list)])\n",
    "print(example_list[2:])\n",
    "print(example_list[2:4])\n",
    "print(example_list[0:len(example_list):2])\n",
    "print(example_list[::2])\n",
    "print(example_list[-1])\n",
    "print(example_list[-1:1:-1])\n",
    "print(example_list[::-1])"
   ]
  },
  {
   "cell_type": "code",
   "execution_count": null,
   "metadata": {},
   "outputs": [],
   "source": [
    "# при простом присваивании новая переменная ссылается на тот же список\n",
    "example_list = [1, 2, 3, 4, 5]\n",
    "another_list = example_list\n",
    "another_list[0] = 100\n",
    "print(example_list)"
   ]
  },
  {
   "cell_type": "code",
   "execution_count": null,
   "metadata": {},
   "outputs": [],
   "source": [
    "# копирование списка\n",
    "example_list = [0, 1, 2, 3, 4, 5]\n",
    "another_list = example_list[:]\n",
    "# import copy\n",
    "# another_list = copy.copy(example_list)\n",
    "# another_list = list(example_list)\n",
    "another_list[0] = 100\n",
    "print(example_list)"
   ]
  },
  {
   "cell_type": "code",
   "execution_count": null,
   "metadata": {},
   "outputs": [],
   "source": [
    "# но вложенные объекты не копируются (shallow copy)\n",
    "nested_list = [1, 2, 3]\n",
    "example_list = [nested_list, 1, 2, 3, 4, 5]\n",
    "another_list = example_list[:]\n",
    "nested_list.append(4)\n",
    "print(another_list)"
   ]
  },
  {
   "cell_type": "code",
   "execution_count": null,
   "metadata": {},
   "outputs": [],
   "source": [
    "# используем ф-ю deepcopy из пакета copy\n",
    "from copy import deepcopy\n",
    "nested_list = [1, 2, 3]\n",
    "example_list = [nested_list, 1, 2, 3, 4, 5]\n",
    "another_list = deepcopy(example_list)\n",
    "nested_list.append(4)\n",
    "print(another_list)"
   ]
  },
  {
   "cell_type": "markdown",
   "metadata": {},
   "source": [
    "### Немного о сортировке"
   ]
  },
  {
   "cell_type": "code",
   "execution_count": null,
   "metadata": {},
   "outputs": [],
   "source": [
    "# Сортировка списка\n",
    "unsorted_list = [2, 1, 5, 4, 3]\n",
    "unsorted_list.sort()\n",
    "print(unsorted_list)"
   ]
  },
  {
   "cell_type": "code",
   "execution_count": null,
   "metadata": {},
   "outputs": [],
   "source": [
    "# сортировка in-place\n",
    "unsorted_list = [2, 1, 5, 4, 3]\n",
    "print(sorted(unsorted_list))\n",
    "print(unsorted_list)"
   ]
  },
  {
   "cell_type": "markdown",
   "metadata": {},
   "source": [
    "### 3.2 dict\n",
    "\n",
    "Позволяет хранить пары ключ-значение, для быстрого доступа к значению по ключу. "
   ]
  },
  {
   "cell_type": "code",
   "execution_count": null,
   "metadata": {},
   "outputs": [],
   "source": [
    "# создаем словарь используя фигурные скобки или ф-ю dict\n",
    "empty_dict = dict()\n",
    "empty_dict = {}"
   ]
  },
  {
   "cell_type": "code",
   "execution_count": null,
   "metadata": {},
   "outputs": [],
   "source": [
    "dict_constructor = dict(a=4, b=True)\n",
    "print(dict_constructor)\n",
    "a = \"c\"\n",
    "b = \"d\"\n",
    "new_dict = dict(a=4, b=True)\n",
    "print(new_dict)"
   ]
  },
  {
   "cell_type": "code",
   "execution_count": null,
   "metadata": {},
   "outputs": [],
   "source": [
    "example_dict = {\n",
    "    \"a\": 1,\n",
    "    \"b\": True,\n",
    "    (1, 2, 3): True\n",
    "}\n",
    "\n",
    "# Добавляем ключ и соответствующее ему значение в словарь O(1)\n",
    "example_dict[\"c\"] = 4\n",
    "print(example_dict)\n",
    "\n",
    "# Поиск значения по ключу O(1)\n",
    "print(example_dict[\"c\"])"
   ]
  },
  {
   "cell_type": "code",
   "execution_count": null,
   "metadata": {},
   "outputs": [],
   "source": [
    "# Доступ к несуществующему ключу:\n",
    "print(example_dict[\"x\"])"
   ]
  },
  {
   "cell_type": "code",
   "execution_count": null,
   "metadata": {
    "scrolled": false
   },
   "outputs": [],
   "source": [
    "# ключом словаря может быть только hashable объект\n",
    "print(example_list)\n",
    "example_dict[example_list] = True"
   ]
  },
  {
   "cell_type": "code",
   "execution_count": null,
   "metadata": {},
   "outputs": [],
   "source": [
    "# создаем словарь используя фигурные скобки или ф-ю dict\n",
    "empty_dict = dict()\n",
    "empty_dict = {}"
   ]
  },
  {
   "cell_type": "code",
   "execution_count": null,
   "metadata": {},
   "outputs": [],
   "source": [
    "dict_constructor = dict(a=4, b=True)\n",
    "print(dict_constructor)\n",
    "a = \"c\"\n",
    "b = \"d\"\n",
    "new_dict = dict(a=4, b=True)\n",
    "print(new_dict)"
   ]
  },
  {
   "cell_type": "code",
   "execution_count": null,
   "metadata": {},
   "outputs": [],
   "source": [
    "example_dict = {\n",
    "    \"a\": 1,\n",
    "    \"b\": True,\n",
    "    (1, 2, 3): True\n",
    "}\n",
    "\n",
    "# Добавляем ключ и соответствующее ему значение в словарь O(1)\n",
    "example_dict[\"c\"] = 4\n",
    "print(example_dict)\n",
    "\n",
    "# Поиск значения по ключу O(1)\n",
    "print(example_dict[\"c\"])"
   ]
  },
  {
   "cell_type": "code",
   "execution_count": null,
   "metadata": {},
   "outputs": [],
   "source": [
    "# Доступ к несуществующему ключу:\n",
    "print(example_dict[\"x\"])"
   ]
  },
  {
   "cell_type": "code",
   "execution_count": null,
   "metadata": {
    "scrolled": false
   },
   "outputs": [],
   "source": [
    "# ключом словаря может быть только hashable объект\n",
    "print(example_list)\n",
    "example_dict[example_list] = True"
   ]
  },
  {
   "cell_type": "markdown",
   "metadata": {},
   "source": [
    "### 3.3 set\n",
    "\n",
    "Неупорядоченная коллекция, содержащая только уникальные хешируемые элементы.\n",
    "\n",
    "Изменяемые\n",
    "Не хешируемые"
   ]
  },
  {
   "cell_type": "code",
   "execution_count": null,
   "metadata": {},
   "outputs": [],
   "source": [
    "# создадим пустой set c помощью ф-ии set()\n",
    "empty_set = set()"
   ]
  },
  {
   "cell_type": "code",
   "execution_count": null,
   "metadata": {},
   "outputs": [],
   "source": [
    "# непустое множество можно также задать фигурными скобками\n",
    "example_set = {1, 2, 3, 4, 4}\n",
    "print('id is ', id(example_set))\n",
    "# добавляем элемент в set\n",
    "example_set.add(4)\n",
    "print(example_set)\n",
    "print('id is ', id(example_set))\n",
    "\n",
    "# добавляем уже присутствующий элемент в set - ничего не меняется\n",
    "example_set.add(1)\n",
    "print(example_set)"
   ]
  },
  {
   "cell_type": "code",
   "execution_count": null,
   "metadata": {},
   "outputs": [],
   "source": [
    "# Проверяем наличие значения в множестве O(1)\n",
    "2 in example_set"
   ]
  },
  {
   "cell_type": "code",
   "execution_count": null,
   "metadata": {},
   "outputs": [],
   "source": [
    "another_set = {4, 5, 6}"
   ]
  },
  {
   "cell_type": "code",
   "execution_count": null,
   "metadata": {},
   "outputs": [],
   "source": [
    "print(example_set.difference(another_set)) # различие\n",
    "print(example_set.union(another_set)) # объединение\n",
    "print(example_set.intersection(another_set)) # пересечение"
   ]
  },
  {
   "cell_type": "code",
   "execution_count": null,
   "metadata": {},
   "outputs": [],
   "source": [
    "# например, вызов какой-либо ф-ии чат сервиса вернул нам список активных в данный момент пользователей в комнате\n",
    "active_users = [\"Александр\", \"Михаил\", \"Ольга\"]\n",
    "# вызов другой ф-ии вернул список администраторов чата\n",
    "admins = [\"Ольга\", \"Мария\"]\n",
    "# нам нужно найти список активных администраторов и послать им какое-либо уведомление\n",
    "active_admins = set(active_users).intersection(set(admins))\n",
    "active_admins"
   ]
  },
  {
   "cell_type": "code",
   "execution_count": null,
   "metadata": {},
   "outputs": [],
   "source": [
    "# сеты могут содержать только hashable объекты.\n",
    "example_set = set()\n",
    "example_set.add([1, 2, 3])"
   ]
  },
  {
   "cell_type": "markdown",
   "metadata": {},
   "source": [
    "**Основная задача, очень часто возникающая на практике. Есть список элементов, нужно оставить только уникальные. Это одна строка с использованием сета:**"
   ]
  },
  {
   "cell_type": "code",
   "execution_count": null,
   "metadata": {},
   "outputs": [],
   "source": [
    "elements = [\"yellow\", \"yellow\", \"green\", \"red\", \"blue\", \"blue\", \"magenta\", \"orange\", \"red\"]\n",
    "set(elements)"
   ]
  },
  {
   "cell_type": "markdown",
   "metadata": {},
   "source": [
    "## frozenset"
   ]
  },
  {
   "cell_type": "markdown",
   "metadata": {},
   "source": [
    "Так как set может содержать только hashable объекты, а иногда нужен сет сетов - существует frozenset"
   ]
  },
  {
   "cell_type": "code",
   "execution_count": null,
   "metadata": {},
   "outputs": [],
   "source": [
    "example_set = set()\n",
    "example_set.add(frozenset([1,2,3]))\n",
    "print(example_set)\n",
    "a = frozenset([1,2,3,3])\n",
    "print(a)"
   ]
  },
  {
   "cell_type": "markdown",
   "metadata": {},
   "source": [
    "### 3.4 tuple\n",
    "\n",
    "Так же как и список позволяет хранить последовательность элементов одного или разного типа\n",
    "\n",
    "* Неизменяемые (Immutable) => защищают данные\n",
    "* Быстрее списка"
   ]
  },
  {
   "cell_type": "code",
   "execution_count": null,
   "metadata": {},
   "outputs": [],
   "source": [
    "# создадим пустой tuple используя круглые скобки или ф-ю tuple\n",
    "empty_tuple = ()\n",
    "empty_tuple = tuple()"
   ]
  },
  {
   "cell_type": "code",
   "execution_count": null,
   "metadata": {},
   "outputs": [],
   "source": [
    "len(empty_tuple)"
   ]
  },
  {
   "cell_type": "code",
   "execution_count": null,
   "metadata": {},
   "outputs": [],
   "source": [
    "example_tuple = (1, \"a\", True)\n",
    "for element in example_tuple:\n",
    "    print(element)"
   ]
  },
  {
   "cell_type": "code",
   "execution_count": null,
   "metadata": {},
   "outputs": [],
   "source": [
    "len(example_tuple)"
   ]
  },
  {
   "cell_type": "code",
   "execution_count": null,
   "metadata": {},
   "outputs": [],
   "source": [
    "example_tuple = (1, 2, 3)\n",
    "print(example_tuple[0])\n",
    "print(example_tuple[1:])"
   ]
  },
  {
   "cell_type": "code",
   "execution_count": null,
   "metadata": {},
   "outputs": [],
   "source": [
    "example_tuple[0] = 2017"
   ]
  },
  {
   "cell_type": "code",
   "execution_count": null,
   "metadata": {},
   "outputs": [],
   "source": [
    "example_list[200]"
   ]
  },
  {
   "cell_type": "code",
   "execution_count": null,
   "metadata": {},
   "outputs": [],
   "source": [
    "a = (123)\n",
    "a\n",
    "print(type(a))\n",
    "a = (123, ) # в кортеже с одним элементом запятая обязательна!\n",
    "print(type(a))\n",
    "a = 1,2,3\n",
    "print (type(a))"
   ]
  },
  {
   "cell_type": "markdown",
   "metadata": {},
   "source": [
    "Важно понимать, что **неизменяемым является сам tuple, но не объекты, которые он содержит!**. Например:"
   ]
  },
  {
   "cell_type": "code",
   "execution_count": null,
   "metadata": {},
   "outputs": [],
   "source": [
    "first_list = [1, 2]\n",
    "second_list = [3, 4]\n",
    "example_tuple = (first_list, second_list)\n",
    "print(example_tuple)\n",
    "first_list.append(5)\n",
    "print(example_tuple)"
   ]
  },
  {
   "cell_type": "markdown",
   "metadata": {},
   "source": [
    "## 4. Функции"
   ]
  },
  {
   "cell_type": "code",
   "execution_count": null,
   "metadata": {
    "nbpresent": {
     "id": "2301b946-912c-4c4c-9378-d1c3e97d354d"
    }
   },
   "outputs": [],
   "source": [
    "def add_numbers(x, y):\n",
    "    return x + y\n",
    "\n",
    "\n",
    "add_numbers(10, 5)"
   ]
  },
  {
   "cell_type": "markdown",
   "metadata": {},
   "source": [
    "#### здесь будут добавлены другие примеры использования функций, а также примеры создания и использования генераторов"
   ]
  },
  {
   "cell_type": "code",
   "execution_count": null,
   "metadata": {},
   "outputs": [],
   "source": []
  }
 ],
 "metadata": {
  "kernelspec": {
   "display_name": "Python 3",
   "language": "python",
   "name": "python3"
  },
  "language_info": {
   "codemirror_mode": {
    "name": "ipython",
    "version": 3
   },
   "file_extension": ".py",
   "mimetype": "text/x-python",
   "name": "python",
   "nbconvert_exporter": "python",
   "pygments_lexer": "ipython3",
   "version": "3.7.1"
  }
 },
 "nbformat": 4,
 "nbformat_minor": 2
}
